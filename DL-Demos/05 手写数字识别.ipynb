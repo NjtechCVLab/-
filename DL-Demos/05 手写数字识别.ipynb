{
 "cells": [
  {
   "cell_type": "markdown",
   "metadata": {},
   "source": [
    "# 用简单CNN模型识别手写数字的小例子"
   ]
  },
  {
   "cell_type": "code",
   "execution_count": 1,
   "metadata": {},
   "outputs": [],
   "source": [
    "import torch\n",
    "import torch.nn as nn\n",
    "import torch.nn.functional as F\n",
    "import torch.optim as optim\n",
    "from torchvision import datasets, transforms"
   ]
  },
  {
   "cell_type": "code",
   "execution_count": 2,
   "metadata": {},
   "outputs": [],
   "source": [
    "# 要用到的一些参数\n",
    "args = {\n",
    "    \"batch_size\": 512,\n",
    "    \"epochs\": 20,\n",
    "    \"device\": torch.device(\"cuda\" if torch.cuda.is_available() else \"cpu\")\n",
    "}"
   ]
  },
  {
   "cell_type": "code",
   "execution_count": 3,
   "metadata": {},
   "outputs": [],
   "source": [
    "# 训练集\n",
    "train_loader = torch.utils.data.DataLoader(\n",
    "    datasets.MNIST('./data/', train = True, download = True,\n",
    "                  transform = transforms.Compose([\n",
    "                      transforms.ToTensor(),\n",
    "                      transforms.Normalize((0.1037,), (0.3081,))\n",
    "                    ])\n",
    "                  ),\n",
    "    batch_size = args['batch_size'],\n",
    "    shuffle = True,\n",
    "    drop_last=True,    # 每个 epoch 丢弃掉最后不够一个 batch 的数据，避免出现维度问题\n",
    ")\n",
    "\n",
    "# 测试集\n",
    "test_loader = torch.utils.data.DataLoader(\n",
    "    datasets.MNIST('./data/', train = False,\n",
    "                   transform = transforms.Compose([\n",
    "                        transforms.ToTensor(),\n",
    "                        transforms.Normalize((0.1037,), (0.3081,))\n",
    "                    ])\n",
    "                  ),\n",
    "    batch_size = args['batch_size'],\n",
    "    shuffle = False,\n",
    ")"
   ]
  },
  {
   "cell_type": "code",
   "execution_count": 4,
   "metadata": {},
   "outputs": [],
   "source": [
    "# 模型结构\n",
    "class Net(nn.Module):\n",
    "    def __init__(self):\n",
    "        super(Net, self).__init__()\n",
    "        \n",
    "        self.net = nn.Sequential(\n",
    "            nn.Conv2d(1, 10, kernel_size=5),    # 卷积层: (in_channel, out_channel, kernel_size)\n",
    "            nn.ReLU(inplace=True),              # 激活层 ReLU\n",
    "            nn.MaxPool2d(2, 2),                 # 最大池化\n",
    "            nn.Conv2d(10, 20, kernel_size=3),\n",
    "            nn.ReLU(inplace=True),\n",
    "            nn.MaxPool2d(2, 2),\n",
    "            nn.Flatten(),                       # 拉平成向量\n",
    "            nn.Linear(500, 256),                # 全连接层\n",
    "            nn.ReLU(inplace=True),\n",
    "            nn.Linear(256, 10),\n",
    "        )\n",
    "        \n",
    "    def forward(self, x):\n",
    "        return F.log_softmax(self.net(x))"
   ]
  },
  {
   "cell_type": "code",
   "execution_count": 5,
   "metadata": {},
   "outputs": [],
   "source": [
    "# 实例化模型和优化器，这里使用 Adam 优化器\n",
    "model = Net().to(args['device'])\n",
    "optimizer = optim.Adam(model.parameters())"
   ]
  },
  {
   "cell_type": "code",
   "execution_count": 6,
   "metadata": {},
   "outputs": [],
   "source": [
    "# 定义训练函数\n",
    "def train(model, device, train_loader, optimizer, epoch):\n",
    "    model.train()\n",
    "    for batch_idx, (data, target) in enumerate(train_loader):\n",
    "        data, target = data.to(device), target.to(device)\n",
    "        optimizer.zero_grad()\n",
    "        output = model(data)\n",
    "        loss = F.nll_loss(output, target)\n",
    "        loss.backward()\n",
    "        optimizer.step()\n",
    "        if (batch_idx + 1) % 30 == 0:\n",
    "            print('Train Epoch: {} [{}/{} ({:.0f}%)]\\tLoss: {:.6f}'.format(\n",
    "                epoch, batch_idx * len(data), len(train_loader.dataset),\n",
    "                100. * batch_idx / len(train_loader), loss.item()))"
   ]
  },
  {
   "cell_type": "code",
   "execution_count": 7,
   "metadata": {},
   "outputs": [],
   "source": [
    "# 定义测试函数\n",
    "def test(model, device, test_loader):\n",
    "    model.eval()\n",
    "    test_loss =0\n",
    "    correct = 0\n",
    "    with torch.no_grad():\n",
    "        for data, target in test_loader:\n",
    "            data, target = data.to(device), target.to(device)\n",
    "            output = model(data)\n",
    "            test_loss += F.nll_loss(output, target, reduction = 'sum') # 将一批的损失相加\n",
    "            pred = output.max(1, keepdim = True)[1] # 找到概率最大的下标\n",
    "            correct += pred.eq(target.view_as(pred)).sum().item()\n",
    "    \n",
    "    test_loss /= len(test_loader.dataset)\n",
    "    print(\"\\nTest set: Average loss: {:.4f}, Accuracy: {}/{} ({:.0f}%) \\n\".format(\n",
    "        test_loss, correct, len(test_loader.dataset),\n",
    "        100.* correct / len(test_loader.dataset)\n",
    "            ))"
   ]
  },
  {
   "cell_type": "code",
   "execution_count": 8,
   "metadata": {
    "scrolled": true
   },
   "outputs": [
    {
     "name": "stderr",
     "output_type": "stream",
     "text": [
      "<ipython-input-4-e2cbf8f5d3f6>:20: UserWarning: Implicit dimension choice for log_softmax has been deprecated. Change the call to include dim=X as an argument.\n",
      "  return F.log_softmax(self.net(x))\n"
     ]
    },
    {
     "name": "stdout",
     "output_type": "stream",
     "text": [
      "Train Epoch: 1 [14848/60000 (25%)]\tLoss: 0.500435\n",
      "Train Epoch: 1 [30208/60000 (50%)]\tLoss: 0.291091\n",
      "Train Epoch: 1 [45568/60000 (76%)]\tLoss: 0.248365\n",
      "\n",
      "Test set: Average loss: 0.1486, Accuracy: 9549/10000 (95%) \n",
      "\n",
      "Train Epoch: 2 [14848/60000 (25%)]\tLoss: 0.213454\n",
      "Train Epoch: 2 [30208/60000 (50%)]\tLoss: 0.120917\n",
      "Train Epoch: 2 [45568/60000 (76%)]\tLoss: 0.104601\n",
      "\n",
      "Test set: Average loss: 0.0818, Accuracy: 9748/10000 (97%) \n",
      "\n",
      "Train Epoch: 3 [14848/60000 (25%)]\tLoss: 0.092638\n",
      "Train Epoch: 3 [30208/60000 (50%)]\tLoss: 0.062612\n",
      "Train Epoch: 3 [45568/60000 (76%)]\tLoss: 0.081900\n",
      "\n",
      "Test set: Average loss: 0.0581, Accuracy: 9819/10000 (98%) \n",
      "\n",
      "Train Epoch: 4 [14848/60000 (25%)]\tLoss: 0.047643\n",
      "Train Epoch: 4 [30208/60000 (50%)]\tLoss: 0.061350\n",
      "Train Epoch: 4 [45568/60000 (76%)]\tLoss: 0.080285\n",
      "\n",
      "Test set: Average loss: 0.0503, Accuracy: 9848/10000 (98%) \n",
      "\n",
      "Train Epoch: 5 [14848/60000 (25%)]\tLoss: 0.047940\n",
      "Train Epoch: 5 [30208/60000 (50%)]\tLoss: 0.059332\n",
      "Train Epoch: 5 [45568/60000 (76%)]\tLoss: 0.034844\n",
      "\n",
      "Test set: Average loss: 0.0427, Accuracy: 9864/10000 (99%) \n",
      "\n",
      "Train Epoch: 6 [14848/60000 (25%)]\tLoss: 0.047614\n",
      "Train Epoch: 6 [30208/60000 (50%)]\tLoss: 0.039612\n",
      "Train Epoch: 6 [45568/60000 (76%)]\tLoss: 0.040256\n",
      "\n",
      "Test set: Average loss: 0.0379, Accuracy: 9877/10000 (99%) \n",
      "\n",
      "Train Epoch: 7 [14848/60000 (25%)]\tLoss: 0.038170\n",
      "Train Epoch: 7 [30208/60000 (50%)]\tLoss: 0.028987\n",
      "Train Epoch: 7 [45568/60000 (76%)]\tLoss: 0.029087\n",
      "\n",
      "Test set: Average loss: 0.0361, Accuracy: 9884/10000 (99%) \n",
      "\n",
      "Train Epoch: 8 [14848/60000 (25%)]\tLoss: 0.041200\n",
      "Train Epoch: 8 [30208/60000 (50%)]\tLoss: 0.040685\n",
      "Train Epoch: 8 [45568/60000 (76%)]\tLoss: 0.036858\n",
      "\n",
      "Test set: Average loss: 0.0337, Accuracy: 9893/10000 (99%) \n",
      "\n",
      "Train Epoch: 9 [14848/60000 (25%)]\tLoss: 0.016669\n",
      "Train Epoch: 9 [30208/60000 (50%)]\tLoss: 0.024840\n",
      "Train Epoch: 9 [45568/60000 (76%)]\tLoss: 0.013016\n",
      "\n",
      "Test set: Average loss: 0.0326, Accuracy: 9896/10000 (99%) \n",
      "\n",
      "Train Epoch: 10 [14848/60000 (25%)]\tLoss: 0.011351\n",
      "Train Epoch: 10 [30208/60000 (50%)]\tLoss: 0.013571\n",
      "Train Epoch: 10 [45568/60000 (76%)]\tLoss: 0.022540\n",
      "\n",
      "Test set: Average loss: 0.0291, Accuracy: 9910/10000 (99%) \n",
      "\n",
      "Train Epoch: 11 [14848/60000 (25%)]\tLoss: 0.017401\n",
      "Train Epoch: 11 [30208/60000 (50%)]\tLoss: 0.011053\n",
      "Train Epoch: 11 [45568/60000 (76%)]\tLoss: 0.021907\n",
      "\n",
      "Test set: Average loss: 0.0295, Accuracy: 9909/10000 (99%) \n",
      "\n",
      "Train Epoch: 12 [14848/60000 (25%)]\tLoss: 0.009441\n",
      "Train Epoch: 12 [30208/60000 (50%)]\tLoss: 0.027461\n",
      "Train Epoch: 12 [45568/60000 (76%)]\tLoss: 0.011862\n",
      "\n",
      "Test set: Average loss: 0.0290, Accuracy: 9905/10000 (99%) \n",
      "\n",
      "Train Epoch: 13 [14848/60000 (25%)]\tLoss: 0.021286\n",
      "Train Epoch: 13 [30208/60000 (50%)]\tLoss: 0.009166\n",
      "Train Epoch: 13 [45568/60000 (76%)]\tLoss: 0.022816\n",
      "\n",
      "Test set: Average loss: 0.0354, Accuracy: 9890/10000 (99%) \n",
      "\n",
      "Train Epoch: 14 [14848/60000 (25%)]\tLoss: 0.010046\n",
      "Train Epoch: 14 [30208/60000 (50%)]\tLoss: 0.008287\n",
      "Train Epoch: 14 [45568/60000 (76%)]\tLoss: 0.007578\n",
      "\n",
      "Test set: Average loss: 0.0392, Accuracy: 9874/10000 (99%) \n",
      "\n",
      "Train Epoch: 15 [14848/60000 (25%)]\tLoss: 0.009165\n",
      "Train Epoch: 15 [30208/60000 (50%)]\tLoss: 0.016829\n",
      "Train Epoch: 15 [45568/60000 (76%)]\tLoss: 0.019886\n",
      "\n",
      "Test set: Average loss: 0.0290, Accuracy: 9909/10000 (99%) \n",
      "\n",
      "Train Epoch: 16 [14848/60000 (25%)]\tLoss: 0.025404\n",
      "Train Epoch: 16 [30208/60000 (50%)]\tLoss: 0.009836\n",
      "Train Epoch: 16 [45568/60000 (76%)]\tLoss: 0.008423\n",
      "\n",
      "Test set: Average loss: 0.0311, Accuracy: 9897/10000 (99%) \n",
      "\n",
      "Train Epoch: 17 [14848/60000 (25%)]\tLoss: 0.009335\n",
      "Train Epoch: 17 [30208/60000 (50%)]\tLoss: 0.008550\n",
      "Train Epoch: 17 [45568/60000 (76%)]\tLoss: 0.016276\n",
      "\n",
      "Test set: Average loss: 0.0323, Accuracy: 9906/10000 (99%) \n",
      "\n",
      "Train Epoch: 18 [14848/60000 (25%)]\tLoss: 0.010323\n",
      "Train Epoch: 18 [30208/60000 (50%)]\tLoss: 0.011521\n",
      "Train Epoch: 18 [45568/60000 (76%)]\tLoss: 0.019946\n",
      "\n",
      "Test set: Average loss: 0.0370, Accuracy: 9895/10000 (99%) \n",
      "\n",
      "Train Epoch: 19 [14848/60000 (25%)]\tLoss: 0.018613\n",
      "Train Epoch: 19 [30208/60000 (50%)]\tLoss: 0.016597\n",
      "Train Epoch: 19 [45568/60000 (76%)]\tLoss: 0.002322\n",
      "\n",
      "Test set: Average loss: 0.0337, Accuracy: 9906/10000 (99%) \n",
      "\n",
      "Train Epoch: 20 [14848/60000 (25%)]\tLoss: 0.004516\n",
      "Train Epoch: 20 [30208/60000 (50%)]\tLoss: 0.002038\n",
      "Train Epoch: 20 [45568/60000 (76%)]\tLoss: 0.002296\n",
      "\n",
      "Test set: Average loss: 0.0294, Accuracy: 9913/10000 (99%) \n",
      "\n"
     ]
    }
   ],
   "source": [
    "# 开始训练，每一轮训练结束后测试\n",
    "for epoch in range(1, args['epochs'] + 1):\n",
    "    train(model,  args['device'], train_loader, optimizer, epoch)\n",
    "    test(model, args['device'], test_loader)"
   ]
  },
  {
   "cell_type": "markdown",
   "metadata": {},
   "source": [
    "# 我们来看一眼数据集里的数据长什么样子"
   ]
  },
  {
   "cell_type": "code",
   "execution_count": 9,
   "metadata": {},
   "outputs": [
    {
     "data": {
      "image/png": "[encoded data removed]",
      "text/plain": [
       "<Figure size 432x288 with 12 Axes>"
      ]
     },
     "metadata": {},
     "output_type": "display_data"
    }
   ],
   "source": [
    "import matplotlib.pyplot as plt\n",
    "import numpy as np\n",
    "import torchvision\n",
    "\n",
    "examples = enumerate(test_loader)\n",
    "batch_idx, (example_data, example_targets) = next(examples)\n",
    "\n",
    "fig = plt.figure()\n",
    "for i in range(12):\n",
    "    plt.subplot(3,4,i+1)\n",
    "    plt.tight_layout()\n",
    "    plt.imshow(example_data[i][0], cmap='gray', interpolation='none')\n",
    "    plt.title(\"Ground Truth: {}\".format(example_targets[i]))\n",
    "    plt.xticks([])\n",
    "    plt.yticks([])\n",
    "plt.show()"
   ]
  },
  {
   "cell_type": "markdown",
   "metadata": {},
   "source": [
    "# 再来看一下训练好的模型预测结果如何"
   ]
  },
  {
   "cell_type": "code",
   "execution_count": 10,
   "metadata": {},
   "outputs": [
    {
     "name": "stderr",
     "output_type": "stream",
     "text": [
      "<ipython-input-4-e2cbf8f5d3f6>:20: UserWarning: Implicit dimension choice for log_softmax has been deprecated. Change the call to include dim=X as an argument.\n",
      "  return F.log_softmax(self.net(x))\n"
     ]
    },
    {
     "data": {
      "image/png": "[encoded data removed]",
      "text/plain": [
       "<Figure size 432x288 with 12 Axes>"
      ]
     },
     "metadata": {},
     "output_type": "display_data"
    }
   ],
   "source": [
    "examples = enumerate(test_loader)\n",
    "batch_idx, (example_data, example_targets) = next(examples)\n",
    "\n",
    "with torch.no_grad():\n",
    "    output = model(example_data)\n",
    "fig = plt.figure()\n",
    "\n",
    "for i in range(12):\n",
    "    plt.subplot(3,4,i+1)\n",
    "    plt.tight_layout()\n",
    "    plt.imshow(example_data[i][0], cmap='gray', interpolation='none')\n",
    "    plt.title(\"Prediction: {}\".format(\n",
    "                output.data.max(1, keepdim=True)[1][i].item())\n",
    "             )\n",
    "    plt.xticks([])\n",
    "    plt.yticks([])\n",
    "plt.show()"
   ]
  },
  {
   "cell_type": "markdown",
   "metadata": {},
   "source": [
    "# 由此可见，模型的预测结果是较为准确的"
   ]
  },
  {
   "cell_type": "code",
   "execution_count": null,
   "metadata": {},
   "outputs": [],
   "source": []
  }
 ],
 "metadata": {
  "kernelspec": {
   "display_name": "Python 3",
   "language": "python",
   "name": "python3"
  },
  "language_info": {
   "codemirror_mode": {
    "name": "ipython",
    "version": 3
   },
   "file_extension": ".py",
   "mimetype": "text/x-python",
   "name": "python",
   "nbconvert_exporter": "python",
   "pygments_lexer": "ipython3",
   "version": "3.8.6"
  }
 },
 "nbformat": 4,
 "nbformat_minor": 2
}
